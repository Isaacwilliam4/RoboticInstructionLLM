{
 "cells": [
  {
   "cell_type": "code",
   "execution_count": 19,
   "metadata": {},
   "outputs": [],
   "source": [
    "import gymnasium as gym\n",
    "import minigrid\n",
    "from minigrid.envs import GoToObjectEnv\n",
    "import pygame\n",
    "import numpy as np\n",
    "import torch\n",
    "import os\n",
    "from agent import Agent\n",
    "from minigrid.core.constants import COLOR_TO_IDX, OBJECT_TO_IDX\n",
    "import math"
   ]
  },
  {
   "cell_type": "code",
   "execution_count": 20,
   "metadata": {},
   "outputs": [],
   "source": [
    "agent_view_size = 7"
   ]
  },
  {
   "cell_type": "code",
   "execution_count": 21,
   "metadata": {},
   "outputs": [],
   "source": [
    "env = GoToObjectEnv(\n",
    "    size=20, \n",
    "    max_steps=200, \n",
    "    render_mode=\"rgb_array\",\n",
    "    agent_view_size=agent_view_size,\n",
    "    # see_through_walls=False,\n",
    ")"
   ]
  },
  {
   "cell_type": "code",
   "execution_count": 22,
   "metadata": {},
   "outputs": [],
   "source": [
    "obs, _ = env.reset()"
   ]
  },
  {
   "cell_type": "code",
   "execution_count": 23,
   "metadata": {},
   "outputs": [],
   "source": [
    "agent_input_size = obs['image'].shape\n",
    "\n",
    "agent = Agent(\n",
    "    input_space_size=math.prod(agent_input_size) + 1 + 6 + 4,\n",
    "    output_space_size=7,\n",
    "    lstm_hidden_size=128, \n",
    "    lstm_num_layers=2,\n",
    ")"
   ]
  },
  {
   "cell_type": "code",
   "execution_count": 24,
   "metadata": {},
   "outputs": [],
   "source": [
    "os.environ['SDL_VIDEO_WINDOW_POS'] = '2000,0'"
   ]
  },
  {
   "cell_type": "code",
   "execution_count": 25,
   "metadata": {},
   "outputs": [],
   "source": [
    "def embedder(mission_string):\n",
    "    color_embed = np.zeros((len(COLOR_TO_IDX),))\n",
    "    for idx, color in enumerate(COLOR_TO_IDX.keys()):\n",
    "        if color in mission_string:\n",
    "            color_embed[idx] = 1\n",
    "\n",
    "    obj_embed = np.zeros((4,))\n",
    "    for idx, obj in enumerate(['key', 'ball', 'box', 'goal']):\n",
    "        if obj in mission_string:\n",
    "            obj_embed[idx] = 1\n",
    "\n",
    "    return np.concatenate((color_embed, obj_embed))\n"
   ]
  },
  {
   "cell_type": "code",
   "execution_count": null,
   "metadata": {},
   "outputs": [
    {
     "name": "stdout",
     "output_type": "stream",
     "text": [
      "(7, 7, 3)\n",
      "()\n",
      "(10,)\n"
     ]
    }
   ],
   "source": [
    "agent_view = obs['image']\n",
    "agent_face = obs['direction']\n",
    "miss_embed = embedder(obs['mission'])\n",
    "print(agent_view.shape)\n",
    "print(agent_face)\n",
    "print(miss_embed.shape)"
   ]
  },
  {
   "cell_type": "code",
   "execution_count": 29,
   "metadata": {},
   "outputs": [
    {
     "data": {
      "text/plain": [
       "158"
      ]
     },
     "execution_count": 29,
     "metadata": {},
     "output_type": "execute_result"
    }
   ],
   "source": [
    "agent.agent_a3c.input_space_size"
   ]
  },
  {
   "cell_type": "code",
   "execution_count": 18,
   "metadata": {},
   "outputs": [],
   "source": [
    "pygame.init()\n",
    "window_size = (env.render().shape[1], env.render().shape[0])  # Get size from the env frame\n",
    "screen = pygame.display.set_mode(window_size)\n",
    "pygame.display.set_caption(\"Minigrid Environment\")"
   ]
  },
  {
   "cell_type": "code",
   "execution_count": 21,
   "metadata": {},
   "outputs": [
    {
     "ename": "ValueError",
     "evalue": "invalid literal for int() with base 10: 'p'",
     "output_type": "error",
     "traceback": [
      "\u001b[0;31m---------------------------------------------------------------------------\u001b[0m",
      "\u001b[0;31mValueError\u001b[0m                                Traceback (most recent call last)",
      "Cell \u001b[0;32mIn[21], line 13\u001b[0m\n\u001b[1;32m      9\u001b[0m \u001b[38;5;28;01mif\u001b[39;00m \u001b[38;5;129;01mnot\u001b[39;00m running: \u001b[38;5;28;01mbreak\u001b[39;00m\n\u001b[1;32m     12\u001b[0m \u001b[38;5;66;03m# action = agent.get_aciton(state)\u001b[39;00m\n\u001b[0;32m---> 13\u001b[0m action \u001b[38;5;241m=\u001b[39m \u001b[38;5;28;43mint\u001b[39;49m\u001b[43m(\u001b[49m\u001b[38;5;28;43minput\u001b[39;49m\u001b[43m(\u001b[49m\u001b[38;5;124;43m\"\u001b[39;49m\u001b[38;5;124;43mWhich direction do you want to go: \u001b[39;49m\u001b[38;5;124;43m\"\u001b[39;49m\u001b[43m)\u001b[49m\u001b[43m)\u001b[49m\n\u001b[1;32m     14\u001b[0m \u001b[38;5;66;03m# action = env.action_space.sample()  # Sample a random action\u001b[39;00m\n\u001b[1;32m     15\u001b[0m obs, reward, terminated, truncated, info \u001b[38;5;241m=\u001b[39m env\u001b[38;5;241m.\u001b[39mstep(action)  \u001b[38;5;66;03m# Take the action\u001b[39;00m\n",
      "\u001b[0;31mValueError\u001b[0m: invalid literal for int() with base 10: 'p'"
     ]
    }
   ],
   "source": [
    "import random\n",
    "\n",
    "running = True\n",
    "for _ in range(20):  # Take 20 random actions\n",
    "    # while action:= int(input(\"What action should the agent take: \")) not in []:\n",
    "    for event in pygame.event.get():\n",
    "        if event.type == pygame.QUIT:\n",
    "            running = False  # Exit loop on window close\n",
    "    if not running: break\n",
    "\n",
    "    \n",
    "    # action = agent.get_aciton(state)\n",
    "    action = int(input(\"Which direction do you want to go: \"))\n",
    "    # action = env.action_space.sample()  # Sample a random action\n",
    "    obs, reward, terminated, truncated, info = env.step(action)  # Take the action\n",
    "    frame = env.render()\n",
    "    frame_surface = pygame.surfarray.make_surface(np.transpose(frame, (1,0,2)))\n",
    "    screen.blit(frame_surface, (0,0))\n",
    "    pygame.display.flip()\n",
    "    \n",
    "    # print(\"Action:\", action)\n",
    "    # print(\"Observation:\", obs)\n",
    "    # print(\"Reward:\", reward)\n",
    "    # print(\"Terminated:\", terminated)\n",
    "\n",
    "    if terminated or truncated:\n",
    "        obs = env.reset()  # Reset if the episode is over"
   ]
  },
  {
   "cell_type": "code",
   "execution_count": 15,
   "metadata": {},
   "outputs": [],
   "source": [
    "env.close()\n",
    "pygame.quit()"
   ]
  },
  {
   "cell_type": "code",
   "execution_count": null,
   "metadata": {},
   "outputs": [],
   "source": [
    "dummy_data = np.random.rand(3, 2, 2, 5)\n",
    "dummy_data.shape"
   ]
  },
  {
   "cell_type": "code",
   "execution_count": null,
   "metadata": {},
   "outputs": [],
   "source": [
    "t = torch.tensor(dummy_data, dtype=torch.float32).flatten(1)\n",
    "t.size()"
   ]
  },
  {
   "cell_type": "code",
   "execution_count": null,
   "metadata": {},
   "outputs": [],
   "source": []
  }
 ],
 "metadata": {
  "kernelspec": {
   "display_name": "Python 3",
   "language": "python",
   "name": "python3"
  },
  "language_info": {
   "codemirror_mode": {
    "name": "ipython",
    "version": 3
   },
   "file_extension": ".py",
   "mimetype": "text/x-python",
   "name": "python",
   "nbconvert_exporter": "python",
   "pygments_lexer": "ipython3",
   "version": "3.11.10"
  }
 },
 "nbformat": 4,
 "nbformat_minor": 2
}
