{
 "cells": [
  {
   "cell_type": "code",
   "execution_count": 1,
   "metadata": {},
   "outputs": [],
   "source": [
    "import gymnasium as gym\n",
    "import minigrid\n",
    "from minigrid.envs import GoToObjectEnv\n",
    "import pygame\n",
    "import numpy as np\n",
    "import torch\n",
    "import os"
   ]
  },
  {
   "cell_type": "code",
   "execution_count": 2,
   "metadata": {},
   "outputs": [],
   "source": [
    "env = GoToObjectEnv(\n",
    "    size=20, \n",
    "    max_steps=200, \n",
    "    render_mode=\"human\",\n",
    "    agent_view_size=3,\n",
    "    # see_through_walls=False,\n",
    ")"
   ]
  },
  {
   "cell_type": "code",
   "execution_count": 3,
   "metadata": {},
   "outputs": [],
   "source": [
    "os.environ['SDL_VIDEO_WINDOW_POS'] = '6500,0'"
   ]
  },
  {
   "cell_type": "code",
   "execution_count": 4,
   "metadata": {},
   "outputs": [
    {
     "name": "stdout",
     "output_type": "stream",
     "text": [
      "[[[1 0 0]\n",
      "  [1 0 0]\n",
      "  [1 0 0]]\n",
      "\n",
      " [[1 0 0]\n",
      "  [1 0 0]\n",
      "  [1 0 0]]\n",
      "\n",
      " [[1 0 0]\n",
      "  [1 0 0]\n",
      "  [1 0 0]]]\n",
      "1\n",
      "go to the grey key\n"
     ]
    }
   ],
   "source": [
    "obs, _ = env.reset()\n",
    "print(obs['image'])\n",
    "print(obs['direction'])\n",
    "print(obs['mission'])"
   ]
  },
  {
   "cell_type": "code",
   "execution_count": 5,
   "metadata": {},
   "outputs": [],
   "source": [
    "# pygame.init()\n",
    "# window_size = (env.render().shape[1], env.render().shape[0])  # Get size from the env frame\n",
    "# screen = pygame.display.set_mode(window_size)\n",
    "# pygame.display.set_caption(\"Minigrid Environment\")"
   ]
  },
  {
   "cell_type": "code",
   "execution_count": 6,
   "metadata": {},
   "outputs": [],
   "source": [
    "# import random\n",
    "\n",
    "# for _ in range(20):  # Take 20 random actions\n",
    "#     # while action:= int(input(\"What action should the agent take: \")) not in []:\n",
    "#     action = random.randint(0, 2)\n",
    "#     # action = env.action_space.sample()  # Sample a random action\n",
    "#     obs, reward, terminated, truncated, info = env.step(action)  # Take the action\n",
    "#     frame = env.render()\n",
    "#     frame_surface = pygame.surfarray.make_surface(np.transpose(frame, (1,0,2)))\n",
    "#     screen.blit(frame_surface, (0,0))\n",
    "#     pygame.display.flip()\n",
    "    \n",
    "#     # print(\"Action:\", action)\n",
    "#     # print(\"Observation:\", obs)\n",
    "#     # print(\"Reward:\", reward)\n",
    "#     # print(\"Terminated:\", terminated)\n",
    "\n",
    "#     if terminated or truncated:\n",
    "#         obs = env.reset()  # Reset if the episode is over"
   ]
  },
  {
   "cell_type": "code",
   "execution_count": 7,
   "metadata": {},
   "outputs": [],
   "source": [
    "# env.close()\n",
    "# pygame.quit()"
   ]
  },
  {
   "cell_type": "code",
   "execution_count": 8,
   "metadata": {},
   "outputs": [],
   "source": [
    "from agent import Agent"
   ]
  },
  {
   "cell_type": "code",
   "execution_count": 9,
   "metadata": {},
   "outputs": [
    {
     "name": "stdout",
     "output_type": "stream",
     "text": [
      "tensor([0., 0., 0., -inf, -inf, -inf, 0.])\n"
     ]
    }
   ],
   "source": [
    "agent = Agent(\n",
    "    input_space_size=20,\n",
    "    output_space_size=7,\n",
    "    lstm_hidden_size=128, \n",
    "    lstm_num_layers=2,\n",
    ")"
   ]
  },
  {
   "cell_type": "code",
   "execution_count": 10,
   "metadata": {},
   "outputs": [
    {
     "data": {
      "text/plain": [
       "(3, 2, 2, 5)"
      ]
     },
     "execution_count": 10,
     "metadata": {},
     "output_type": "execute_result"
    }
   ],
   "source": [
    "dummy_data = np.random.rand(3, 2, 2, 5)\n",
    "dummy_data.shape"
   ]
  },
  {
   "cell_type": "code",
   "execution_count": 11,
   "metadata": {},
   "outputs": [
    {
     "data": {
      "text/plain": [
       "torch.Size([3, 20])"
      ]
     },
     "execution_count": 11,
     "metadata": {},
     "output_type": "execute_result"
    }
   ],
   "source": [
    "t = torch.tensor(dummy_data, dtype=torch.float32).flatten(1)\n",
    "t.size()"
   ]
  },
  {
   "cell_type": "code",
   "execution_count": null,
   "metadata": {},
   "outputs": [
    {
     "data": {
      "text/plain": [
       "(tensor([-0.0290, -0.0308, -0.0313], device='cuda:0', grad_fn=<SelectBackward0>),\n",
       " tensor([[0.2302, 0.2328, 0.2673, 0.0000, 0.0000, 0.0000, 0.2697],\n",
       "         [0.2302, 0.2325, 0.2676, 0.0000, 0.0000, 0.0000, 0.2697],\n",
       "         [0.2297, 0.2328, 0.2675, 0.0000, 0.0000, 0.0000, 0.2699]],\n",
       "        device='cuda:0', grad_fn=<SoftmaxBackward0>))"
      ]
     },
     "execution_count": 12,
     "metadata": {},
     "output_type": "execute_result"
    },
    {
     "ename": "",
     "evalue": "",
     "output_type": "error",
     "traceback": [
      "\u001b[1;31mThe Kernel crashed while executing code in the current cell or a previous cell. \n",
      "\u001b[1;31mPlease review the code in the cell(s) to identify a possible cause of the failure. \n",
      "\u001b[1;31mClick <a href='https://aka.ms/vscodeJupyterKernelCrash'>here</a> for more info. \n",
      "\u001b[1;31mView Jupyter <a href='command:jupyter.viewOutput'>log</a> for further details."
     ]
    }
   ],
   "source": [
    "agent.train(dummy_data)"
   ]
  }
 ],
 "metadata": {
  "kernelspec": {
   "display_name": "Python 3",
   "language": "python",
   "name": "python3"
  },
  "language_info": {
   "codemirror_mode": {
    "name": "ipython",
    "version": 3
   },
   "file_extension": ".py",
   "mimetype": "text/x-python",
   "name": "python",
   "nbconvert_exporter": "python",
   "pygments_lexer": "ipython3",
   "version": "3.11.10"
  }
 },
 "nbformat": 4,
 "nbformat_minor": 2
}
