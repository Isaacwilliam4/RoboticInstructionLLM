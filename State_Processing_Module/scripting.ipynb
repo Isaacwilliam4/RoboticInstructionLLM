{
 "cells": [
  {
   "cell_type": "code",
   "execution_count": 6,
   "metadata": {},
   "outputs": [],
   "source": [
    "import transformers\n",
    "from transformers import DistilBertTokenizer, DistilBertModel"
   ]
  },
  {
   "cell_type": "code",
   "execution_count": 7,
   "metadata": {},
   "outputs": [],
   "source": [
    "tokenizer = DistilBertTokenizer.from_pretrained('distilbert-base-uncased')\n",
    "model = DistilBertModel.from_pretrained('distilbert-base-uncased')"
   ]
  },
  {
   "cell_type": "code",
   "execution_count": 8,
   "metadata": {},
   "outputs": [
    {
     "name": "stdout",
     "output_type": "stream",
     "text": [
      "tensor([[[-2.2719e-01, -1.7390e-01, -5.0350e-02,  ..., -3.4869e-02,\n",
      "           5.0236e-01,  3.4458e-01],\n",
      "         [-2.0414e-02, -1.6917e-01,  3.8591e-01,  ...,  8.9658e-02,\n",
      "           7.3483e-01,  4.7233e-04],\n",
      "         [-6.1660e-01,  1.6398e-01,  5.8012e-01,  ..., -2.7803e-01,\n",
      "           4.1833e-01,  2.3169e-01],\n",
      "         ...,\n",
      "         [-2.0863e-01, -8.6781e-01,  5.3058e-01,  ...,  3.3449e-01,\n",
      "           5.8673e-01, -2.3773e-01],\n",
      "         [-3.7604e-01, -6.4697e-01, -3.0601e-01,  ..., -2.0242e-01,\n",
      "           6.0294e-01,  2.2844e-01],\n",
      "         [ 7.9708e-01,  1.9524e-01, -4.4445e-01,  ...,  3.5078e-01,\n",
      "          -3.4825e-01, -3.3992e-01]]], grad_fn=<NativeLayerNormBackward0>)\n"
     ]
    }
   ],
   "source": [
    "inputs = tokenizer(\"Hello, how are you?\", return_tensors='pt')\n",
    "outputs = model(**inputs)\n",
    "print(outputs.last_hidden_state) "
   ]
  },
  {
   "cell_type": "code",
   "execution_count": 9,
   "metadata": {},
   "outputs": [
    {
     "data": {
      "text/plain": [
       "torch.Size([1, 8, 768])"
      ]
     },
     "execution_count": 9,
     "metadata": {},
     "output_type": "execute_result"
    }
   ],
   "source": [
    "outputs.last_hidden_state.shape"
   ]
  },
  {
   "cell_type": "code",
   "execution_count": 11,
   "metadata": {},
   "outputs": [],
   "source": [
    "import torch\n",
    "from torch import nn\n",
    "class SimpleFFNN(nn.Module):\n",
    "    def __init__(self, input_size):\n",
    "        super(SimpleFFNN, self).__init__()\n",
    "        self.fc1 = nn.Linear(input_size, 256)\n",
    "        self.fc2 = nn.Linear(256, 8) \n",
    "\n",
    "    def forward(self, x):\n",
    "        x = x.mean(dim=1)\n",
    "        x = torch.relu(self.fc1(x)) \n",
    "        x = self.fc2(x)\n",
    "        return x"
   ]
  },
  {
   "cell_type": "code",
   "execution_count": 12,
   "metadata": {},
   "outputs": [],
   "source": [
    "ffn = SimpleFFNN(768)\n",
    "output = outputs.last_hidden_state\n",
    "ffn_output = ffn(output)"
   ]
  },
  {
   "cell_type": "code",
   "execution_count": 13,
   "metadata": {},
   "outputs": [
    {
     "data": {
      "text/plain": [
       "tensor([[-0.1050,  0.0719,  0.0291, -0.0294, -0.0132,  0.0818,  0.0231,  0.0597]],\n",
       "       grad_fn=<AddmmBackward0>)"
      ]
     },
     "execution_count": 13,
     "metadata": {},
     "output_type": "execute_result"
    }
   ],
   "source": [
    "ffn_output"
   ]
  }
 ],
 "metadata": {
  "kernelspec": {
   "display_name": "robotllm",
   "language": "python",
   "name": "python3"
  },
  "language_info": {
   "codemirror_mode": {
    "name": "ipython",
    "version": 3
   },
   "file_extension": ".py",
   "mimetype": "text/x-python",
   "name": "python",
   "nbconvert_exporter": "python",
   "pygments_lexer": "ipython3",
   "version": "3.10.13"
  },
  "orig_nbformat": 4
 },
 "nbformat": 4,
 "nbformat_minor": 2
}
